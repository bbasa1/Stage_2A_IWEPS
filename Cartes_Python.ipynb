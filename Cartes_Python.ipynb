{
 "cells": [
  {
   "cell_type": "code",
   "execution_count": 3,
   "id": "71bda37d",
   "metadata": {},
   "outputs": [],
   "source": [
    "import requests\n",
    "import pandas as pd\n",
    "import io\n",
    "\n",
    "import numpy as np\n",
    "import seaborn as sns\n",
    "import matplotlib.pyplot as plt\n",
    "import plotly\n",
    "import plotly.express as px\n",
    "from IPython.display import HTML\n",
    "\n",
    "import geopandas as gpd\n",
    "import contextily as ctx\n",
    "\n",
    "import urllib\n",
    "\n",
    "from sklearn.decomposition import PCA\n",
    "from sklearn.preprocessing import StandardScaler\n",
    "\n",
    "import plotly.graph_objects as go\n",
    "from plotly.subplots import make_subplots\n",
    "\n",
    "\n",
    "import warnings\n",
    "warnings.filterwarnings(\"ignore\")\n"
   ]
  },
  {
   "cell_type": "code",
   "execution_count": null,
   "id": "b231b494",
   "metadata": {},
   "outputs": [],
   "source": []
  },
  {
   "cell_type": "code",
   "execution_count": 5,
   "id": "bb07ff52",
   "metadata": {},
   "outputs": [
    {
     "data": {
      "text/html": [
       "<div>\n",
       "<style scoped>\n",
       "    .dataframe tbody tr th:only-of-type {\n",
       "        vertical-align: middle;\n",
       "    }\n",
       "\n",
       "    .dataframe tbody tr th {\n",
       "        vertical-align: top;\n",
       "    }\n",
       "\n",
       "    .dataframe thead th {\n",
       "        text-align: right;\n",
       "    }\n",
       "</style>\n",
       "<table border=\"1\" class=\"dataframe\">\n",
       "  <thead>\n",
       "    <tr style=\"text-align: right;\">\n",
       "      <th></th>\n",
       "      <th>Pays</th>\n",
       "      <th>Gini</th>\n",
       "    </tr>\n",
       "  </thead>\n",
       "  <tbody>\n",
       "    <tr>\n",
       "      <th>0</th>\n",
       "      <td>AT</td>\n",
       "      <td>0.727843</td>\n",
       "    </tr>\n",
       "    <tr>\n",
       "      <th>1</th>\n",
       "      <td>BE</td>\n",
       "      <td>0.615315</td>\n",
       "    </tr>\n",
       "    <tr>\n",
       "      <th>2</th>\n",
       "      <td>CY</td>\n",
       "      <td>0.686821</td>\n",
       "    </tr>\n",
       "    <tr>\n",
       "      <th>3</th>\n",
       "      <td>DE</td>\n",
       "      <td>0.657331</td>\n",
       "    </tr>\n",
       "    <tr>\n",
       "      <th>4</th>\n",
       "      <td>E1</td>\n",
       "      <td>NaN</td>\n",
       "    </tr>\n",
       "    <tr>\n",
       "      <th>5</th>\n",
       "      <td>EE</td>\n",
       "      <td>0.623158</td>\n",
       "    </tr>\n",
       "    <tr>\n",
       "      <th>6</th>\n",
       "      <td>ES</td>\n",
       "      <td>0.704491</td>\n",
       "    </tr>\n",
       "    <tr>\n",
       "      <th>7</th>\n",
       "      <td>FI</td>\n",
       "      <td>0.622434</td>\n",
       "    </tr>\n",
       "    <tr>\n",
       "      <th>8</th>\n",
       "      <td>FR</td>\n",
       "      <td>0.679126</td>\n",
       "    </tr>\n",
       "    <tr>\n",
       "      <th>9</th>\n",
       "      <td>GR</td>\n",
       "      <td>0.658845</td>\n",
       "    </tr>\n",
       "    <tr>\n",
       "      <th>10</th>\n",
       "      <td>HR</td>\n",
       "      <td>0.569148</td>\n",
       "    </tr>\n",
       "    <tr>\n",
       "      <th>11</th>\n",
       "      <td>HU</td>\n",
       "      <td>0.596948</td>\n",
       "    </tr>\n",
       "    <tr>\n",
       "      <th>12</th>\n",
       "      <td>IE</td>\n",
       "      <td>0.649795</td>\n",
       "    </tr>\n",
       "    <tr>\n",
       "      <th>13</th>\n",
       "      <td>IT</td>\n",
       "      <td>0.596507</td>\n",
       "    </tr>\n",
       "    <tr>\n",
       "      <th>14</th>\n",
       "      <td>LT</td>\n",
       "      <td>0.542447</td>\n",
       "    </tr>\n",
       "    <tr>\n",
       "      <th>15</th>\n",
       "      <td>LU</td>\n",
       "      <td>0.600292</td>\n",
       "    </tr>\n",
       "    <tr>\n",
       "      <th>16</th>\n",
       "      <td>LV</td>\n",
       "      <td>0.643973</td>\n",
       "    </tr>\n",
       "    <tr>\n",
       "      <th>17</th>\n",
       "      <td>MT</td>\n",
       "      <td>0.559906</td>\n",
       "    </tr>\n",
       "    <tr>\n",
       "      <th>18</th>\n",
       "      <td>NL</td>\n",
       "      <td>0.830554</td>\n",
       "    </tr>\n",
       "    <tr>\n",
       "      <th>19</th>\n",
       "      <td>PL</td>\n",
       "      <td>0.579232</td>\n",
       "    </tr>\n",
       "    <tr>\n",
       "      <th>20</th>\n",
       "      <td>PT</td>\n",
       "      <td>0.602266</td>\n",
       "    </tr>\n",
       "    <tr>\n",
       "      <th>21</th>\n",
       "      <td>SI</td>\n",
       "      <td>0.575337</td>\n",
       "    </tr>\n",
       "    <tr>\n",
       "      <th>22</th>\n",
       "      <td>SK</td>\n",
       "      <td>0.554473</td>\n",
       "    </tr>\n",
       "  </tbody>\n",
       "</table>\n",
       "</div>"
      ],
      "text/plain": [
       "   Pays      Gini\n",
       "0    AT  0.727843\n",
       "1    BE  0.615315\n",
       "2    CY  0.686821\n",
       "3    DE  0.657331\n",
       "4    E1       NaN\n",
       "5    EE  0.623158\n",
       "6    ES  0.704491\n",
       "7    FI  0.622434\n",
       "8    FR  0.679126\n",
       "9    GR  0.658845\n",
       "10   HR  0.569148\n",
       "11   HU  0.596948\n",
       "12   IE  0.649795\n",
       "13   IT  0.596507\n",
       "14   LT  0.542447\n",
       "15   LU  0.600292\n",
       "16   LV  0.643973\n",
       "17   MT  0.559906\n",
       "18   NL  0.830554\n",
       "19   PL  0.579232\n",
       "20   PT  0.602266\n",
       "21   SI  0.575337\n",
       "22   SK  0.554473"
      ]
     },
     "execution_count": 5,
     "metadata": {},
     "output_type": "execute_result"
    }
   ],
   "source": [
    "df = pd.read_csv(filepath_or_buffer = \"C:/Users/Benjamin/Desktop/IWEPS/Data/Data_intermediaire/Gini_carte.csv\")\n",
    "df"
   ]
  },
  {
   "cell_type": "code",
   "execution_count": 38,
   "id": "07be5f87",
   "metadata": {},
   "outputs": [
    {
     "data": {
      "text/html": [
       "<div>\n",
       "<style scoped>\n",
       "    .dataframe tbody tr th:only-of-type {\n",
       "        vertical-align: middle;\n",
       "    }\n",
       "\n",
       "    .dataframe tbody tr th {\n",
       "        vertical-align: top;\n",
       "    }\n",
       "\n",
       "    .dataframe thead th {\n",
       "        text-align: right;\n",
       "    }\n",
       "</style>\n",
       "<table border=\"1\" class=\"dataframe\">\n",
       "  <thead>\n",
       "    <tr style=\"text-align: right;\">\n",
       "      <th></th>\n",
       "      <th>name</th>\n",
       "      <th>id</th>\n",
       "      <th>Continent</th>\n",
       "      <th>geometry</th>\n",
       "    </tr>\n",
       "  </thead>\n",
       "  <tbody>\n",
       "    <tr>\n",
       "      <th>0</th>\n",
       "      <td>Russia</td>\n",
       "      <td>RU</td>\n",
       "      <td>Europe</td>\n",
       "      <td>MULTIPOLYGON (((22.76630 54.35680, 22.16820 54...</td>\n",
       "    </tr>\n",
       "    <tr>\n",
       "      <th>1</th>\n",
       "      <td>Gibraltar</td>\n",
       "      <td>GI</td>\n",
       "      <td>Europe</td>\n",
       "      <td>POLYGON ((-5.33450 36.16240, -5.33830 36.11230...</td>\n",
       "    </tr>\n",
       "    <tr>\n",
       "      <th>2</th>\n",
       "      <td>Netherlands</td>\n",
       "      <td>NL</td>\n",
       "      <td>Europe</td>\n",
       "      <td>MULTIPOLYGON (((4.22620 51.38650, 4.17260 51.3...</td>\n",
       "    </tr>\n",
       "  </tbody>\n",
       "</table>\n",
       "</div>"
      ],
      "text/plain": [
       "          name  id Continent  \\\n",
       "0       Russia  RU    Europe   \n",
       "1    Gibraltar  GI    Europe   \n",
       "2  Netherlands  NL    Europe   \n",
       "\n",
       "                                            geometry  \n",
       "0  MULTIPOLYGON (((22.76630 54.35680, 22.16820 54...  \n",
       "1  POLYGON ((-5.33450 36.16240, -5.33830 36.11230...  \n",
       "2  MULTIPOLYGON (((4.22620 51.38650, 4.17260 51.3...  "
      ]
     },
     "execution_count": 38,
     "metadata": {},
     "output_type": "execute_result"
    }
   ],
   "source": [
    "map_path = \"C:/Users/Benjamin/Desktop/IWEPS/Data/Data_intermediaire/\" + \"europeHigh.json\"\n",
    "sf = gpd.read_file(map_path)\n",
    "sf.head(3)"
   ]
  },
  {
   "cell_type": "code",
   "execution_count": null,
   "id": "31682655",
   "metadata": {},
   "outputs": [],
   "source": []
  },
  {
   "cell_type": "code",
   "execution_count": 39,
   "id": "1e6c140c",
   "metadata": {},
   "outputs": [
    {
     "data": {
      "text/plain": [
       "str"
      ]
     },
     "execution_count": 39,
     "metadata": {},
     "output_type": "execute_result"
    }
   ],
   "source": [
    "type(sf[\"id\"][0])\n",
    "type(df[\"Pays\"][0])"
   ]
  },
  {
   "cell_type": "code",
   "execution_count": 40,
   "id": "ede7b712",
   "metadata": {},
   "outputs": [
    {
     "name": "stdout",
     "output_type": "stream",
     "text": [
      "Tout d'abord l'Europe et ses pays !' :\n"
     ]
    },
    {
     "data": {
      "image/png": "[encoded data removed]",
      "text/plain": [
       "<Figure size 432x288 with 1 Axes>"
      ]
     },
     "metadata": {
      "needs_background": "light"
     },
     "output_type": "display_data"
    }
   ],
   "source": [
    "ax = sf.plot()\n",
    "ax.set_axis_off()\n",
    "print(\"Tout d'abord l'Europe et ses pays !' :\")"
   ]
  },
  {
   "cell_type": "code",
   "execution_count": 44,
   "id": "bfb97ca0",
   "metadata": {},
   "outputs": [],
   "source": [
    "df_pays = sf.merge(df, how = \"left\", left_on = \"id\", right_on = \"Pays\")\n",
    "\n"
   ]
  },
  {
   "cell_type": "code",
   "execution_count": 47,
   "id": "0e0c1c28",
   "metadata": {},
   "outputs": [],
   "source": [
    "# df_pays"
   ]
  },
  {
   "cell_type": "code",
   "execution_count": 48,
   "id": "b46e88ef",
   "metadata": {},
   "outputs": [
    {
     "data": {
      "text/plain": [
       "<AxesSubplot:>"
      ]
     },
     "execution_count": 48,
     "metadata": {},
     "output_type": "execute_result"
    },
    {
     "data": {
      "image/png": "[encoded data removed]",
      "text/plain": [
       "<Figure size 720x720 with 2 Axes>"
      ]
     },
     "metadata": {
      "needs_background": "light"
     },
     "output_type": "display_data"
    }
   ],
   "source": [
    "df_pays[\"centre_pays\"] = df_pays.centroid\n",
    "\n",
    "\n",
    "fig,ax = plt.subplots(figsize=(10, 10))\n",
    "df_pays.plot(ax = ax, column = \"Gini\", legend=True)\n"
   ]
  },
  {
   "cell_type": "code",
   "execution_count": null,
   "id": "0e0aa20c",
   "metadata": {},
   "outputs": [],
   "source": []
  },
  {
   "cell_type": "code",
   "execution_count": null,
   "id": "61244ede",
   "metadata": {},
   "outputs": [],
   "source": [
    "fig = px.scatter(df_region,\n",
    "                 x=\"Taux de pauvreté-Ensemble (%)\",\n",
    "                 y='Ensemble des médecins',\n",
    "                 color='nom',\n",
    "                 size='pop_region_2020',\n",
    "                 size_max=45)\n",
    "\n",
    "fig.update_layout(showlegend=True, \n",
    "                  legend_title ='Région', \n",
    "                  title_text=\"\\n Nombre de médecins par région en fonction du taux de pauvreté moyen\\n\", \n",
    "                  height=600,\n",
    "                  autosize=True)\n",
    "\n",
    "fig.show()"
   ]
  }
 ],
 "metadata": {
  "kernelspec": {
   "display_name": "Python 3 (ipykernel)",
   "language": "python",
   "name": "python3"
  },
  "language_info": {
   "codemirror_mode": {
    "name": "ipython",
    "version": 3
   },
   "file_extension": ".py",
   "mimetype": "text/x-python",
   "name": "python",
   "nbconvert_exporter": "python",
   "pygments_lexer": "ipython3",
   "version": "3.9.12"
  }
 },
 "nbformat": 4,
 "nbformat_minor": 5
}
